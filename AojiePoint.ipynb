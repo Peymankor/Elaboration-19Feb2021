{
 "cells": [
  {
   "cell_type": "markdown",
   "id": "statutory-richards",
   "metadata": {},
   "source": [
    "## Objective:"
   ]
  },
  {
   "cell_type": "markdown",
   "id": "normal-carol",
   "metadata": {},
   "source": [
    "A Diabetes doctor tries to Maximize the \"Reduction of Sugar in Blood\" of her patient - To do each month, she tries one of *potential medication* (here she has 5 options) and at the end of the month, she takes a measurement from her patient and tries to figure out which medication is best for next month."
   ]
  },
  {
   "cell_type": "markdown",
   "id": "perfect-photograph",
   "metadata": {},
   "source": [
    "## Alternatives "
   ]
  },
  {
   "cell_type": "markdown",
   "id": "accepted-prevention",
   "metadata": {},
   "source": [
    "At the end of each month, she must make a decision to prescribe *one* drug - And her options are the following 5 medication:"
   ]
  },
  {
   "cell_type": "markdown",
   "id": "extended-rotation",
   "metadata": {},
   "source": [
    "$\\chi=[x_1,x_2,x_3,x_4,x_5]$"
   ]
  },
  {
   "cell_type": "markdown",
   "id": "agreed-brunswick",
   "metadata": {},
   "source": [
    "These drug names are (decision alternatives), where decision are made sequentially -Note that at each month you pick any of thses drugs, so your alternatives during these process are always *these Five types of drugs*:"
   ]
  },
  {
   "cell_type": "markdown",
   "id": "fleet-flash",
   "metadata": {},
   "source": [
    "## Source of Uncertainty:"
   ]
  },
  {
   "cell_type": "markdown",
   "id": "terminal-shelter",
   "metadata": {},
   "source": [
    "You do not know how much each medication *Reduce Sugar Level* of your patient. Over the process you make decision and observe the measurement, you learn about that..."
   ]
  },
  {
   "cell_type": "markdown",
   "id": "delayed-omaha",
   "metadata": {},
   "source": [
    "## Start the Process of Sequential Decision Making:"
   ]
  },
  {
   "cell_type": "markdown",
   "id": "italian-supervisor",
   "metadata": {},
   "source": [
    "Now at time , $n=0$, her initial knowledge about the effectiveness of the drugs (in other words how much each drug reduce sugar level of patients is):"
   ]
  },
  {
   "cell_type": "markdown",
   "id": "spread-destination",
   "metadata": {},
   "source": [
    "$$S^0 = [Norm(\\overline{\\mu}_{x=1}^{n=0}=30,\\beta^{n=0}_{x=1}=0.1),\\\\ Norm(\\overline{\\mu}_{x=2}^{n=0}=25,\\beta^{n=0}_{x=2}=0.1), \\\\Norm(\\overline{\\mu}_{x=3}^{n=0}=20,\\beta^{n=0}_{x=3}=0.1),\\\\ Norm(\\overline{\\mu}_{x=4}^{n=0}=15,\\beta^{n=0}_{x=4}=0.1),\\\\ Norm(\\overline{\\mu}_{x=5}^{n=0}=10,\\beta^{n=0}_{x=5}=0.1)]$$ -"
   ]
  },
  {
   "cell_type": "markdown",
   "id": "entertaining-thomas",
   "metadata": {},
   "source": [
    "*Note* : These are the measurement have been taken from millions of people with diabetes problem so give some estimate, say *initial belief*, however your *patient's* reaction to each medication is unique)"
   ]
  },
  {
   "cell_type": "markdown",
   "id": "flexible-biology",
   "metadata": {},
   "source": [
    "*Note*: Here I use term $\\beta$ instead of $\\sigma^2$ just to make Bayesian updating easier,($\\beta_x^n= \\frac{1}{(\\sigma_x^n)^2}$)"
   ]
  },
  {
   "cell_type": "markdown",
   "id": "strategic-platform",
   "metadata": {},
   "source": [
    "Now, how she must decide which of the drug is picked, after one month and she measure patinet sugar level at $n=1$ . Now the way she make decision is based on this policy,:\n"
   ]
  },
  {
   "cell_type": "markdown",
   "id": "oriented-efficiency",
   "metadata": {},
   "source": [
    "$$\n",
    "X^{UCB}(S_n|\\theta^{UCB}) = argmax(\\overline{\\mu}_x^n + 0.5\\sqrt{\\frac{log(n+1)}{N_x^n+1}})  \\\\\n",
    "x \\in \\chi\n",
    "$$"
   ]
  },
  {
   "cell_type": "markdown",
   "id": "external-portland",
   "metadata": {},
   "source": [
    "**1) Pure Exploitation Policy**"
   ]
  },
  {
   "cell_type": "markdown",
   "id": "qualified-closure",
   "metadata": {},
   "source": [
    "Now let's say her policy is *Pure Exploitation*- It means the term $\\theta^{UCB}=0$  <br/>\n",
    "It means she select the drug that highest $\\overline{\\mu}^0$ so, her policy is: <br/>"
   ]
  },
  {
   "cell_type": "markdown",
   "id": "affecting-cheese",
   "metadata": {},
   "source": [
    "$$\n",
    "X^{UCB}(S_n|\\theta^{UCB}) = argmax(\\overline{\\mu}_x^n)  \\\\\n",
    "x \\in \\chi\n",
    "$$"
   ]
  },
  {
   "cell_type": "markdown",
   "id": "prime-zoning",
   "metadata": {},
   "source": [
    "*Note*: The reason this policy is *Pure Exploitation* is the doctor only relies on her best estimate, and do not try to learn about other drugs."
   ]
  },
  {
   "cell_type": "markdown",
   "id": "comparable-scheme",
   "metadata": {},
   "source": [
    "based on above policy, her choice will be $x_1$ - Now at time  $n=1$ she take test to see how much the patient's sugar level has decreased and she observes it is $W_{x=1}^{n=1}=25$- Knwoing Bayesian Updating for (Norm /Norm) conjugate:"
   ]
  },
  {
   "cell_type": "markdown",
   "id": "dominican-transfer",
   "metadata": {},
   "source": [
    "$$\n",
    "\\overline{\\mu}_x^{n+1} = \\frac{\\beta_x^n\\overline{\\mu}_x^n + \\beta_x^WW_x^{n+1}}{\\beta_x^n + \\beta_x^W} \\\\ \n",
    "\\\\\n",
    "\\beta^{n+1}_x = \\beta_x^n + \\beta^W\n",
    "$$"
   ]
  },
  {
   "cell_type": "markdown",
   "id": "august-response",
   "metadata": {},
   "source": [
    "Now, she must update \"her\" belief about effectivenes of the drug she used, $x_1$ and she does that with bayes updating:"
   ]
  },
  {
   "cell_type": "markdown",
   "id": "hourly-baghdad",
   "metadata": {},
   "source": [
    "$$\n",
    "\\overline{\\mu}_{x=1}^{1} = \\frac{0.1 \\times 30 + 25 \\times 4}{0.1 + 4} =\\frac{103}{4.1} = 25.12 \\\\\n",
    "\\beta_{x=1}^{1} = 0.1 + 4 = 4.1\n",
    "$$"
   ]
  },
  {
   "cell_type": "markdown",
   "id": "prompt-application",
   "metadata": {},
   "source": [
    "*Note*: I use $\\beta_x^W$=4 as the *precision of measuremnt* generally should be high... "
   ]
  },
  {
   "cell_type": "markdown",
   "id": "fresh-president",
   "metadata": {},
   "source": [
    "Having updating our belief about drug 1 our state is:"
   ]
  },
  {
   "cell_type": "markdown",
   "id": "literary-northeast",
   "metadata": {},
   "source": [
    "$$S^1 = [Norm(\\overline{\\mu}_{x=1}^{n=1}=25.12,\\beta^{n=1}_{x=1}=4.1),\\\\ Norm(\\overline{\\mu}_{x=2}^{n=1}=25,\\beta^{n=1}_{x=2}=0.1), \\\\Norm(\\overline{\\mu}_{x=3}^{n=1}=20,\\beta^{n=1}_{x=3}=0.1),\\\\ Norm(\\overline{\\mu}_{x=4}^{n=1}=15,\\beta^{n=1}_{x=4}=0.1),\\\\ Norm(\\overline{\\mu}_{x=5}^{n=1}=10,\\beta^{n=1}_{x=5}=0.1)]$$"
   ]
  },
  {
   "cell_type": "markdown",
   "id": "light-italy",
   "metadata": {},
   "source": [
    "Now, if we continue our policy, we again use the drug $x_1$ for $n=1$ because it has highest $\\mu$, and we do not try other drug, because if we do not test other drugs on our patients, we do do not learn about other drugs...\n",
    "So, in both $n=0,n=1$ we use the drug $x_1$. Doctor's sequence of decision is: <br/>\n",
    "$[x_1^0,x_1^1]$\n"
   ]
  },
  {
   "cell_type": "markdown",
   "id": "variable-thesaurus",
   "metadata": {},
   "source": [
    "This policy has weakness that, we only *exploiting* what we know at that time, not *exploring* other drugs. Now lets' change policy and have $\\theta^{UCB} = 0.5$"
   ]
  },
  {
   "cell_type": "markdown",
   "id": "amino-committee",
   "metadata": {},
   "source": [
    "**2) Exploitation and Exploration Policy**"
   ]
  },
  {
   "cell_type": "markdown",
   "id": "intermediate-intranet",
   "metadata": {},
   "source": [
    "Now, with this $\\theta^{UCB}=0.5$ our policy becomes:"
   ]
  },
  {
   "cell_type": "markdown",
   "id": "three-sydney",
   "metadata": {},
   "source": [
    "$$\n",
    "X^{UCB}(S_n|\\theta^{UCB}) = argmax(\\overline{\\mu}_x^n + 0.5\\sqrt{\\frac{log(n+1)}{N_x^n+1}})  \\\\\n",
    "x \\in \\chi\n",
    "$$"
   ]
  },
  {
   "cell_type": "markdown",
   "id": "common-finish",
   "metadata": {},
   "source": [
    "For $n=0$, we can see that again, our choice will be drug number $x_1$, as trem inside the square root is zero at time $n=0$. After deciding on drug $x_1$, we observe  the decrease in patient sugar level is $W_{x=1}^{n=1}=25$.- and we update our state, exactly like the one did. Now, we are at time $n=1$ and make decision- I am calculating the parentese term for each drug:"
   ]
  },
  {
   "cell_type": "markdown",
   "id": "funny-litigation",
   "metadata": {},
   "source": [
    "$$\n",
    " \\\\\n",
    "x=x_1; \\ \\ \\overline{\\mu}_{x_1}^{n=1} + 0.5\\sqrt{\\frac{log(n+1)}{N_x^n+1}} = 25.12 + 0.5 \\times \\sqrt{\\frac{log(2)}{1+1}}= 25.41\\\\ \n",
    "x=x_2; \\ \\ \\overline{\\mu}_{x_2}^{n=1} + 0.5\\sqrt{\\frac{log(n+1)}{N_x^n+1}} = 25 + 0.5 \\times \\sqrt{\\frac{log(2)}{0+1}}= 25.42 \\\\\n",
    "x=x_3; \\ \\ \\overline{\\mu}_{x_3}^{n=1} + 0.5\\sqrt{\\frac{log(n+1)}{N_x^n+1}} = 20 + 0.5 \\times \\sqrt{\\frac{log(2)}{0+1}}= 20.42 \\\\\n",
    "x=x_4; \\ \\ \\overline{\\mu}_{x_4}^{n=1} + 0.5\\sqrt{\\frac{log(n+1)}{N_x^n+1}} = 15 + 0.5 \\times \\sqrt{\\frac{log(2)}{0+1}}= 15.42 \\\\\n",
    "x=x_5; \\ \\ \\overline{\\mu}_{x_5}^{n=1} + 0.5\\sqrt{\\frac{log(n+1)}{N_x^n+1}} = 10 + 0.5 \\times \\sqrt{\\frac{log(2)}{0+1}}= 10.42 \\\\ \n",
    "$$"
   ]
  },
  {
   "cell_type": "markdown",
   "id": "informative-master",
   "metadata": {},
   "source": [
    "As we can see for time $n=1$, the drug $x_2$ is selected and now the course of action is:"
   ]
  },
  {
   "cell_type": "markdown",
   "id": "executive-velvet",
   "metadata": {},
   "source": [
    "$[x_1^0,x_2^1]$"
   ]
  }
 ],
 "metadata": {
  "kernelspec": {
   "display_name": "Python 3.7.6 64-bit ('miniconda3': virtualenv)",
   "language": "python",
   "name": "python37664bitminiconda3virtualenve74fedcb21d34eb1870d0e92f04bd4f6"
  },
  "language_info": {
   "codemirror_mode": {
    "name": "ipython",
    "version": 3
   },
   "file_extension": ".py",
   "mimetype": "text/x-python",
   "name": "python",
   "nbconvert_exporter": "python",
   "pygments_lexer": "ipython3",
   "version": "3.7.6"
  }
 },
 "nbformat": 4,
 "nbformat_minor": 5
}
